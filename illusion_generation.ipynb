{
  "nbformat": 4,
  "nbformat_minor": 0,
  "metadata": {
    "colab": {
      "name": "illusion_generation.ipynb",
      "provenance": [],
      "private_outputs": true,
      "authorship_tag": "ABX9TyOW9RZZrJYwoyJ/pwIe0HS0",
      "include_colab_link": true
    },
    "kernelspec": {
      "name": "python3",
      "display_name": "Python 3"
    },
    "accelerator": "GPU"
  },
  "cells": [
    {
      "cell_type": "markdown",
      "metadata": {
        "id": "view-in-github",
        "colab_type": "text"
      },
      "source": [
        "<a href=\"https://colab.research.google.com/github/LanaSina/illusion_evolver/blob/master/illusion_generation.ipynb\" target=\"_parent\"><img src=\"https://colab.research.google.com/assets/colab-badge.svg\" alt=\"Open In Colab\"/></a>"
      ]
    },
    {
      "cell_type": "markdown",
      "metadata": {
        "id": "MJX1PSidS0qg",
        "colab_type": "text"
      },
      "source": [
        "Check python version \n",
        "\n",
        "change python version through menu: Runtime -> Change runtime type\n",
        "\n",
        "choose python 3 and gpu"
      ]
    },
    {
      "cell_type": "code",
      "metadata": {
        "id": "2ee7MrdjSq2M",
        "colab_type": "code",
        "colab": {}
      },
      "source": [
        "# change python version through menu: Runtime -> Change runtime type\n",
        "# choose python 3 and gpu\n",
        "import sys\n",
        "print(sys.version)"
      ],
      "execution_count": 0,
      "outputs": []
    },
    {
      "cell_type": "markdown",
      "metadata": {
        "id": "7yvE7BU0S8jK",
        "colab_type": "text"
      },
      "source": [
        "Mount drive "
      ]
    },
    {
      "cell_type": "code",
      "metadata": {
        "id": "MOpbh84DTJBT",
        "colab_type": "code",
        "colab": {}
      },
      "source": [
        "from google.colab import drive\n",
        "drive.mount('/content/drive')"
      ],
      "execution_count": 0,
      "outputs": []
    },
    {
      "cell_type": "markdown",
      "metadata": {
        "id": "JbSxf0ZkTUeq",
        "colab_type": "text"
      },
      "source": [
        "Install libraries"
      ]
    },
    {
      "cell_type": "code",
      "metadata": {
        "id": "NTqIZgX1TQ2C",
        "colab_type": "code",
        "colab": {}
      },
      "source": [
        "%pip install tensorboard-chainer\n",
        "%pip install -U PyYAML\n",
        "%pip install neat-python torch"
      ],
      "execution_count": 0,
      "outputs": []
    },
    {
      "cell_type": "markdown",
      "metadata": {
        "id": "FOUptJQYTf1Q",
        "colab_type": "text"
      },
      "source": [
        "Pull code from github"
      ]
    },
    {
      "cell_type": "code",
      "metadata": {
        "id": "EdrqBPBsTiGP",
        "colab_type": "code",
        "colab": {}
      },
      "source": [
        " !rm -r illusion_evolver\n",
        " !git clone https://github.com/LanaSina/illusion_evolver.git --recurse-submodules"
      ],
      "execution_count": 0,
      "outputs": []
    },
    {
      "cell_type": "markdown",
      "metadata": {
        "id": "-c_gF4bbT7n1",
        "colab_type": "text"
      },
      "source": [
        "Download prediction model"
      ]
    },
    {
      "cell_type": "code",
      "metadata": {
        "id": "DCOi5IhNT_hU",
        "colab_type": "code",
        "colab": {}
      },
      "source": [
        "!cp '/content/drive/My Drive/AI/prednet_private/fpsi_500000_20v.model' '.'"
      ],
      "execution_count": 0,
      "outputs": []
    },
    {
      "cell_type": "markdown",
      "metadata": {
        "id": "epZObJN7TzjW",
        "colab_type": "text"
      },
      "source": [
        "Generate illusions"
      ]
    },
    {
      "cell_type": "code",
      "metadata": {
        "id": "ysVV244ZT1Jo",
        "colab_type": "code",
        "colab": {}
      },
      "source": [
        "!rm -r \"results\"\n",
        "%run 'illusion_evolver/generate_illusion.py' -m 'fpsi_500000_20v.model' -cfg \"illusion_evolver/neat.cfg\" -o './results'"
      ],
      "execution_count": 0,
      "outputs": []
    }
  ]
}